{
 "cells": [
  {
   "cell_type": "code",
   "execution_count": 66,
   "id": "7f3862b1",
   "metadata": {},
   "outputs": [],
   "source": [
    "import cv2 as cv\n",
    "import tensorflow as tf\n",
    "import numpy as np\n",
    "from keras.models import model_from_json\n",
    "import matplotlib.pyplot as plt\n",
    "from keras.preprocessing.image import ImageDataGenerator\n",
    "from sklearn.metrics import confusion_matrix, classification_report,ConfusionMatrixDisplay"
   ]
  },
  {
   "cell_type": "code",
   "execution_count": 67,
   "id": "a1cb97f3",
   "metadata": {},
   "outputs": [],
   "source": [
    "emotion_dict = {0: \"Angry\", 1: \"Disgusted\", 2: \"Fearful\", 3: \"Happy\", 4: \"Neutral\", 5: \"Sad\", 6: \"Surprised\"}\n",
    "\n",
    "# load json and create model\n",
    "json_file = open('models/emotion_model.json', 'r')\n",
    "loaded_model_json = json_file.read()\n",
    "json_file.close()\n",
    "emotion_model = model_from_json(loaded_model_json)\n",
    "\n",
    "# load weights into new model\n",
    "emotion_model.load_weights(\"models/emotion_model.h5\")"
   ]
  },
  {
   "cell_type": "code",
   "execution_count": 74,
   "id": "e8a24a1f",
   "metadata": {},
   "outputs": [],
   "source": [
    "face_cascade = cv.CascadeClassifier('cascade/haarcascade_frontalface_alt2.xml')"
   ]
  },
  {
   "cell_type": "code",
   "execution_count": 83,
   "id": "101460a0",
   "metadata": {},
   "outputs": [],
   "source": [
    "def emotions(img):\n",
    "    gray = cv.cvtColor(img, cv.COLOR_BGR2GRAY)\n",
    "    faces = face_cascade.detectMultiScale(gray, 1.1, 4)\n",
    "    for(x, y, w, h) in faces: \n",
    "        cv.rectangle(img, (x, y), (x+w, y+h),  (0, 0, 255), 2) \n",
    "        gray_face = gray[y:y + h, x:x + w] \n",
    "        resized=cv.resize(gray_face, (48,48))\n",
    "        image_tensor = tf.convert_to_tensor(resized, dtype=tf.float32)\n",
    "        # Add dimension to match with input mode \n",
    "        image_tensor = tf.expand_dims(image_tensor, 2)\n",
    "        image_tensor = tf.expand_dims(image_tensor, 0)\n",
    "        image_tensor=image_tensor/255\n",
    "        print(emotion_dict[emotion_model.predict(image_tensor).argmax()], end='\\n')\n",
    "    "
   ]
  },
  {
   "cell_type": "code",
   "execution_count": 85,
   "id": "e727f5ad",
   "metadata": {},
   "outputs": [
    {
     "name": "stdout",
     "output_type": "stream",
     "text": [
      "1/1 [==============================] - 0s 134ms/step\n",
      "Happy\n"
     ]
    }
   ],
   "source": [
    "img = cv.imread('R.jpeg')\n",
    "emotions(img)"
   ]
  }
 ],
 "metadata": {
  "kernelspec": {
   "display_name": "Python 3 (ipykernel)",
   "language": "python",
   "name": "python3"
  },
  "language_info": {
   "codemirror_mode": {
    "name": "ipython",
    "version": 3
   },
   "file_extension": ".py",
   "mimetype": "text/x-python",
   "name": "python",
   "nbconvert_exporter": "python",
   "pygments_lexer": "ipython3",
   "version": "3.11.3"
  }
 },
 "nbformat": 4,
 "nbformat_minor": 5
}
