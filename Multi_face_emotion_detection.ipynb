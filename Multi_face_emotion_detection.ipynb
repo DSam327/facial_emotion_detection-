{
 "cells": [
  {
   "cell_type": "code",
   "execution_count": 35,
   "id": "26876f8a",
   "metadata": {},
   "outputs": [],
   "source": [
    "import cv2 as cv\n",
    "import tensorflow as tf\n",
    "import numpy as np\n",
    "from keras.models import model_from_json\n",
    "import matplotlib.pyplot as plt\n",
    "from keras.preprocessing.image import ImageDataGenerator\n",
    "from sklearn.metrics import confusion_matrix, classification_report,ConfusionMatrixDisplay"
   ]
  },
  {
   "cell_type": "code",
   "execution_count": null,
   "id": "94f7612e",
   "metadata": {},
   "outputs": [],
   "source": [
    "emotion_dict = {0: \"Angry\", 1: \"Disgusted\", 2: \"Fearful\", 3: \"Happy\", 4: \"Neutral\", 5: \"Sad\", 6: \"Surprised\"}\n",
    "\n",
    "# load json and create model\n",
    "json_file = open('models/emotion_model.json', 'r')\n",
    "loaded_model_json = json_file.read()\n",
    "json_file.close()\n",
    "emotion_model = model_from_json(loaded_model_json)\n",
    "\n",
    "# load weights into new model\n",
    "emotion_model.load_weights(\"models/emotion_model.h5\")"
   ]
  },
  {
   "cell_type": "code",
   "execution_count": 18,
   "id": "f2649eb3",
   "metadata": {},
   "outputs": [],
   "source": [
    "face_cascade = cv.CascadeClassifier('cascade/haarcascade_frontalface_alt2.xml')\n",
    "img = cv.imread('R.jpeg')\n",
    "gray = cv.cvtColor(img, cv.COLOR_BGR2GRAY)\n",
    "faces = face_cascade.detectMultiScale(gray, 1.1, 4)"
   ]
  },
  {
   "cell_type": "code",
   "execution_count": 20,
   "id": "25ef5de9",
   "metadata": {},
   "outputs": [
    {
     "data": {
      "text/plain": [
       "-1"
      ]
     },
     "execution_count": 20,
     "metadata": {},
     "output_type": "execute_result"
    }
   ],
   "source": [
    "for (x, y, w, h) in faces: \n",
    "    cv.rectangle(img, (x, y), (x+w, y+h),  \n",
    "                  (0, 0, 255), 2) \n",
    "      \n",
    "    faces = img[y:y + h, x:x + w] \n",
    "    cv.imshow(\"face\",faces) \n",
    "    cv.imwrite('face.jpg', faces) \n",
    "  \n",
    "cv.imshow('img', img) \n",
    "cv.waitKey()"
   ]
  },
  {
   "cell_type": "code",
   "execution_count": 26,
   "id": "74ab88ca",
   "metadata": {},
   "outputs": [
    {
     "name": "stdout",
     "output_type": "stream",
     "text": [
      "(48, 48)\n"
     ]
    }
   ],
   "source": [
    "gray_face=cv.cvtColor(faces, cv.COLOR_BGR2GRAY)\n",
    "resized=cv.resize(gray_face, (48,48))\n",
    "print(resized.shape)"
   ]
  },
  {
   "cell_type": "code",
   "execution_count": 22,
   "id": "415c0490",
   "metadata": {},
   "outputs": [
    {
     "data": {
      "text/plain": [
       "-1"
      ]
     },
     "execution_count": 22,
     "metadata": {},
     "output_type": "execute_result"
    }
   ],
   "source": [
    "cv.imshow('img', resized)\n",
    "cv.waitKey()"
   ]
  },
  {
   "cell_type": "code",
   "execution_count": 52,
   "id": "d7284d64",
   "metadata": {},
   "outputs": [
    {
     "data": {
      "text/plain": [
       "<tf.Tensor: shape=(1, 48, 48, 1), dtype=float32, numpy=\n",
       "array([[[[0.27450982],\n",
       "         [0.18431373],\n",
       "         [0.22352941],\n",
       "         ...,\n",
       "         [0.4509804 ],\n",
       "         [0.53333336],\n",
       "         [0.49019608]],\n",
       "\n",
       "        [[0.15294118],\n",
       "         [0.16470589],\n",
       "         [0.2       ],\n",
       "         ...,\n",
       "         [0.5568628 ],\n",
       "         [0.3137255 ],\n",
       "         [0.5254902 ]],\n",
       "\n",
       "        [[0.28627452],\n",
       "         [0.17254902],\n",
       "         [0.18431373],\n",
       "         ...,\n",
       "         [0.2901961 ],\n",
       "         [0.3647059 ],\n",
       "         [0.5764706 ]],\n",
       "\n",
       "        ...,\n",
       "\n",
       "        [[0.22352941],\n",
       "         [0.12941177],\n",
       "         [0.10980392],\n",
       "         ...,\n",
       "         [0.10196079],\n",
       "         [0.10196079],\n",
       "         [0.09411765]],\n",
       "\n",
       "        [[0.1882353 ],\n",
       "         [0.16078432],\n",
       "         [0.10588235],\n",
       "         ...,\n",
       "         [0.10196079],\n",
       "         [0.10980392],\n",
       "         [0.13725491]],\n",
       "\n",
       "        [[0.21960784],\n",
       "         [0.17254902],\n",
       "         [0.14509805],\n",
       "         ...,\n",
       "         [0.10196079],\n",
       "         [0.09019608],\n",
       "         [0.10196079]]]], dtype=float32)>"
      ]
     },
     "execution_count": 52,
     "metadata": {},
     "output_type": "execute_result"
    }
   ],
   "source": [
    "image_tensor = tf.convert_to_tensor(resized, dtype=tf.float32)\n",
    "\n",
    "# Add dimension to match with input mode \n",
    "image_tensor = tf.expand_dims(image_tensor, 2)\n",
    "image_tensor = tf.expand_dims(image_tensor, 0)\n",
    "image_tensor=image_tensor/255\n",
    "emotion_dict[emotion_model.predict(image_tensor).argmax()]"
   ]
  }
 ],
 "metadata": {
  "kernelspec": {
   "display_name": "Python 3 (ipykernel)",
   "language": "python",
   "name": "python3"
  },
  "language_info": {
   "codemirror_mode": {
    "name": "ipython",
    "version": 3
   },
   "file_extension": ".py",
   "mimetype": "text/x-python",
   "name": "python",
   "nbconvert_exporter": "python",
   "pygments_lexer": "ipython3",
   "version": "3.11.3"
  }
 },
 "nbformat": 4,
 "nbformat_minor": 5
}
