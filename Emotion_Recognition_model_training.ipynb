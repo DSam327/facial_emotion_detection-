{
 "cells": [
  {
   "cell_type": "code",
   "execution_count": 33,
   "id": "22fb9415",
   "metadata": {},
   "outputs": [],
   "source": [
    "import cv2\n",
    "from keras.models import Sequential\n",
    "from keras.layers import Conv2D, MaxPooling2D, Dense, Dropout, Flatten\n",
    "from keras.optimizers import Adam\n",
    "from keras.preprocessing.image import ImageDataGenerator\n",
    "import tensorflow as tf\n",
    "import cv2"
   ]
  },
  {
   "cell_type": "code",
   "execution_count": 5,
   "id": "eb61ce7c",
   "metadata": {},
   "outputs": [
    {
     "name": "stdout",
     "output_type": "stream",
     "text": [
      "Found 28709 images belonging to 7 classes.\n",
      "Found 7178 images belonging to 7 classes.\n"
     ]
    }
   ],
   "source": [
    "# Initialize image data generator with rescaling\n",
    "train_data_gen = ImageDataGenerator(rescale=1./255)\n",
    "validation_data_gen = ImageDataGenerator(rescale=1./255)\n",
    "\n",
    "# Preprocess all test images\n",
    "train_generator = train_data_gen.flow_from_directory(\n",
    "        'data/train',\n",
    "        target_size=(48, 48),\n",
    "        batch_size=64,\n",
    "        color_mode=\"grayscale\",\n",
    "        class_mode='categorical')\n",
    "\n",
    "# Preprocess all train images\n",
    "validation_generator = validation_data_gen.flow_from_directory(\n",
    "        'data/test',\n",
    "        target_size=(48, 48),\n",
    "        batch_size=64,\n",
    "        color_mode=\"grayscale\",\n",
    "        class_mode='categorical')"
   ]
  },
  {
   "cell_type": "code",
   "execution_count": 11,
   "id": "dd8b7447",
   "metadata": {},
   "outputs": [],
   "source": [
    "# create model structure\n",
    "emotion_model = Sequential()\n",
    "\n",
    "emotion_model.add(Conv2D(32, kernel_size=(3, 3), activation='relu', input_shape=(48, 48, 1)))\n",
    "emotion_model.add(Conv2D(64, kernel_size=(3, 3), activation='relu'))\n",
    "emotion_model.add(MaxPooling2D(pool_size=(2, 2)))\n",
    "emotion_model.add(Dropout(0.25))\n",
    "\n",
    "emotion_model.add(Conv2D(128, kernel_size=(3, 3), activation='relu'))\n",
    "emotion_model.add(MaxPooling2D(pool_size=(2, 2)))\n",
    "emotion_model.add(Conv2D(128, kernel_size=(3, 3), activation='relu'))\n",
    "emotion_model.add(MaxPooling2D(pool_size=(2, 2)))\n",
    "emotion_model.add(Dropout(0.25))\n",
    "\n",
    "emotion_model.add(Flatten())\n",
    "emotion_model.add(Dense(1024, activation='relu'))\n",
    "emotion_model.add(Dropout(0.5))\n",
    "emotion_model.add(Dense(7, activation='softmax'))\n",
    "\n",
    "emotion_model.compile(loss='categorical_crossentropy', optimizer=Adam(learning_rate=0.0001), metrics=['accuracy'])"
   ]
  },
  {
   "cell_type": "code",
   "execution_count": 15,
   "id": "3dea93dc",
   "metadata": {},
   "outputs": [
    {
     "name": "stdout",
     "output_type": "stream",
     "text": [
      "Epoch 1/20\n",
      "448/448 [==============================] - 425s 949ms/step - loss: 0.9293 - accuracy: 0.6559 - val_loss: 1.0813 - val_accuracy: 0.5979\n",
      "Epoch 2/20\n",
      "448/448 [==============================] - 163s 363ms/step - loss: 0.9083 - accuracy: 0.6626 - val_loss: 1.0818 - val_accuracy: 0.6032\n",
      "Epoch 3/20\n",
      "448/448 [==============================] - 174s 388ms/step - loss: 0.8829 - accuracy: 0.6746 - val_loss: 1.0719 - val_accuracy: 0.6031\n",
      "Epoch 4/20\n",
      "448/448 [==============================] - 181s 404ms/step - loss: 0.8634 - accuracy: 0.6806 - val_loss: 1.0642 - val_accuracy: 0.6062\n",
      "Epoch 5/20\n",
      "448/448 [==============================] - 190s 424ms/step - loss: 0.8389 - accuracy: 0.6905 - val_loss: 1.0797 - val_accuracy: 0.6051\n",
      "Epoch 6/20\n",
      "448/448 [==============================] - 177s 395ms/step - loss: 0.8150 - accuracy: 0.6979 - val_loss: 1.0610 - val_accuracy: 0.6131\n",
      "Epoch 7/20\n",
      "448/448 [==============================] - 167s 372ms/step - loss: 0.7910 - accuracy: 0.7110 - val_loss: 1.0653 - val_accuracy: 0.6147\n",
      "Epoch 8/20\n",
      "448/448 [==============================] - 159s 355ms/step - loss: 0.7681 - accuracy: 0.7168 - val_loss: 1.0608 - val_accuracy: 0.6127\n",
      "Epoch 9/20\n",
      "448/448 [==============================] - 175s 390ms/step - loss: 0.7505 - accuracy: 0.7240 - val_loss: 1.0652 - val_accuracy: 0.6177\n",
      "Epoch 10/20\n",
      "448/448 [==============================] - 168s 376ms/step - loss: 0.7273 - accuracy: 0.7364 - val_loss: 1.0712 - val_accuracy: 0.6176\n",
      "Epoch 11/20\n",
      "448/448 [==============================] - 173s 385ms/step - loss: 0.7021 - accuracy: 0.7439 - val_loss: 1.0911 - val_accuracy: 0.6108\n",
      "Epoch 12/20\n",
      "448/448 [==============================] - 182s 407ms/step - loss: 0.6810 - accuracy: 0.7557 - val_loss: 1.0925 - val_accuracy: 0.6184\n",
      "Epoch 13/20\n",
      "448/448 [==============================] - 175s 392ms/step - loss: 0.6637 - accuracy: 0.7598 - val_loss: 1.0922 - val_accuracy: 0.6183\n",
      "Epoch 14/20\n",
      "448/448 [==============================] - 173s 386ms/step - loss: 0.6317 - accuracy: 0.7724 - val_loss: 1.0908 - val_accuracy: 0.6222\n",
      "Epoch 15/20\n",
      "448/448 [==============================] - 163s 363ms/step - loss: 0.6177 - accuracy: 0.7766 - val_loss: 1.0989 - val_accuracy: 0.6182\n",
      "Epoch 16/20\n",
      "448/448 [==============================] - 151s 336ms/step - loss: 0.5982 - accuracy: 0.7836 - val_loss: 1.1006 - val_accuracy: 0.6226\n",
      "Epoch 17/20\n",
      "448/448 [==============================] - 152s 339ms/step - loss: 0.5756 - accuracy: 0.7891 - val_loss: 1.1100 - val_accuracy: 0.6229\n",
      "Epoch 18/20\n",
      "448/448 [==============================] - 150s 335ms/step - loss: 0.5597 - accuracy: 0.7959 - val_loss: 1.1142 - val_accuracy: 0.6182\n",
      "Epoch 19/20\n",
      "448/448 [==============================] - 150s 336ms/step - loss: 0.5368 - accuracy: 0.8081 - val_loss: 1.1181 - val_accuracy: 0.6214\n",
      "Epoch 20/20\n",
      "448/448 [==============================] - 152s 340ms/step - loss: 0.5256 - accuracy: 0.8114 - val_loss: 1.1182 - val_accuracy: 0.6257\n"
     ]
    }
   ],
   "source": [
    "# Train the neural network/model\n",
    "emotion_model_info = emotion_model.fit(\n",
    "        train_generator,\n",
    "        steps_per_epoch=28709 // 64,\n",
    "        epochs=20,        validation_data=validation_generator,\n",
    "        validation_steps=7178 // 64)\n"
   ]
  },
  {
   "cell_type": "code",
   "execution_count": 17,
   "id": "fd488f01",
   "metadata": {},
   "outputs": [],
   "source": [
    "model_json = emotion_model.to_json()\n",
    "with open(\"models/emotion_model.json\", \"w\") as json_file:\n",
    "    json_file.write(model_json)\n",
    "\n",
    "# save trained model weight in .h5 file\n",
    "emotion_model.save_weights('models/emotion_model.h5')"
   ]
  }
 ],
 "metadata": {
  "kernelspec": {
   "display_name": "Python 3 (ipykernel)",
   "language": "python",
   "name": "python3"
  },
  "language_info": {
   "codemirror_mode": {
    "name": "ipython",
    "version": 3
   },
   "file_extension": ".py",
   "mimetype": "text/x-python",
   "name": "python",
   "nbconvert_exporter": "python",
   "pygments_lexer": "ipython3",
   "version": "3.11.3"
  }
 },
 "nbformat": 4,
 "nbformat_minor": 5
}
