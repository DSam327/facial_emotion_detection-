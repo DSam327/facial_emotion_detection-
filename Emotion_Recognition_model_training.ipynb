{
 "cells": [
  {
   "cell_type": "code",
   "execution_count": 33,
   "id": "d400586d",
   "metadata": {},
   "outputs": [],
   "source": [
    "import cv2\n",
    "from keras.models import Sequential\n",
    "from keras.layers import Conv2D, MaxPooling2D, Dense, Dropout, Flatten\n",
    "from keras.optimizers import Adam\n",
    "from keras.preprocessing.image import ImageDataGenerator\n",
    "import tensorflow as tf\n",
    "import cv2"
   ]
  },
  {
   "cell_type": "code",
   "execution_count": 5,
   "id": "1e9e7621",
   "metadata": {},
   "outputs": [
    {
     "name": "stdout",
     "output_type": "stream",
     "text": [
      "Found 28709 images belonging to 7 classes.\n",
      "Found 7178 images belonging to 7 classes.\n"
     ]
    }
   ],
   "source": [
    "# Initialize image data generator with rescaling\n",
    "train_data_gen = ImageDataGenerator(rescale=1./255)\n",
    "validation_data_gen = ImageDataGenerator(rescale=1./255)\n",
    "\n",
    "# Preprocess all test images\n",
    "train_generator = train_data_gen.flow_from_directory(\n",
    "        'data/train',\n",
    "        target_size=(48, 48),\n",
    "        batch_size=64,\n",
    "        color_mode=\"grayscale\",\n",
    "        class_mode='categorical')\n",
    "\n",
    "# Preprocess all train images\n",
    "validation_generator = validation_data_gen.flow_from_directory(\n",
    "        'data/test',\n",
    "        target_size=(48, 48),\n",
    "        batch_size=64,\n",
    "        color_mode=\"grayscale\",\n",
    "        class_mode='categorical')"
   ]
  },
  {
   "cell_type": "code",
   "execution_count": 11,
   "id": "91ef2ef1",
   "metadata": {},
   "outputs": [],
   "source": [
    "# create model structure\n",
    "emotion_model = Sequential()\n",
    "\n",
    "emotion_model.add(Conv2D(32, kernel_size=(3, 3), activation='relu', input_shape=(48, 48, 1)))\n",
    "emotion_model.add(Conv2D(64, kernel_size=(3, 3), activation='relu'))\n",
    "emotion_model.add(MaxPooling2D(pool_size=(2, 2)))\n",
    "emotion_model.add(Dropout(0.25))\n",
    "\n",
    "emotion_model.add(Conv2D(128, kernel_size=(3, 3), activation='relu'))\n",
    "emotion_model.add(MaxPooling2D(pool_size=(2, 2)))\n",
    "emotion_model.add(Conv2D(128, kernel_size=(3, 3), activation='relu'))\n",
    "emotion_model.add(MaxPooling2D(pool_size=(2, 2)))\n",
    "emotion_model.add(Dropout(0.25))\n",
    "\n",
    "emotion_model.add(Flatten())\n",
    "emotion_model.add(Dense(1024, activation='relu'))\n",
    "emotion_model.add(Dropout(0.5))\n",
    "emotion_model.add(Dense(7, activation='softmax'))\n",
    "\n",
    "emotion_model.compile(loss='categorical_crossentropy', optimizer=Adam(learning_rate=0.0001), metrics=['accuracy'])"
   ]
  },
  {
   "cell_type": "code",
   "execution_count": 15,
   "id": "47a6edbc",
   "metadata": {},
   "outputs": [
    {
     "name": "stdout",
     "output_type": "stream",
     "text": [
      "Epoch 1/20\n",
      "448/448 [==============================] - 425s 949ms/step - loss: 0.9293 - accuracy: 0.6559 - val_loss: 1.0813 - val_accuracy: 0.5979\n",
      "Epoch 2/20\n",
      "448/448 [==============================] - 163s 363ms/step - loss: 0.9083 - accuracy: 0.6626 - val_loss: 1.0818 - val_accuracy: 0.6032\n",
      "Epoch 3/20\n",
      "448/448 [==============================] - 174s 388ms/step - loss: 0.8829 - accuracy: 0.6746 - val_loss: 1.0719 - val_accuracy: 0.6031\n",
      "Epoch 4/20\n",
      "448/448 [==============================] - 181s 404ms/step - loss: 0.8634 - accuracy: 0.6806 - val_loss: 1.0642 - val_accuracy: 0.6062\n",
      "Epoch 5/20\n",
      "448/448 [==============================] - 190s 424ms/step - loss: 0.8389 - accuracy: 0.6905 - val_loss: 1.0797 - val_accuracy: 0.6051\n",
      "Epoch 6/20\n",
      "448/448 [==============================] - 177s 395ms/step - loss: 0.8150 - accuracy: 0.6979 - val_loss: 1.0610 - val_accuracy: 0.6131\n",
      "Epoch 7/20\n",
      "448/448 [==============================] - 167s 372ms/step - loss: 0.7910 - accuracy: 0.7110 - val_loss: 1.0653 - val_accuracy: 0.6147\n",
      "Epoch 8/20\n",
      "448/448 [==============================] - 159s 355ms/step - loss: 0.7681 - accuracy: 0.7168 - val_loss: 1.0608 - val_accuracy: 0.6127\n",
      "Epoch 9/20\n",
      "448/448 [==============================] - 175s 390ms/step - loss: 0.7505 - accuracy: 0.7240 - val_loss: 1.0652 - val_accuracy: 0.6177\n",
      "Epoch 10/20\n",
      "448/448 [==============================] - 168s 376ms/step - loss: 0.7273 - accuracy: 0.7364 - val_loss: 1.0712 - val_accuracy: 0.6176\n",
      "Epoch 11/20\n",
      "448/448 [==============================] - 173s 385ms/step - loss: 0.7021 - accuracy: 0.7439 - val_loss: 1.0911 - val_accuracy: 0.6108\n",
      "Epoch 12/20\n",
      "448/448 [==============================] - 182s 407ms/step - loss: 0.6810 - accuracy: 0.7557 - val_loss: 1.0925 - val_accuracy: 0.6184\n",
      "Epoch 13/20\n",
      "448/448 [==============================] - 175s 392ms/step - loss: 0.6637 - accuracy: 0.7598 - val_loss: 1.0922 - val_accuracy: 0.6183\n",
      "Epoch 14/20\n",
      "448/448 [==============================] - 173s 386ms/step - loss: 0.6317 - accuracy: 0.7724 - val_loss: 1.0908 - val_accuracy: 0.6222\n",
      "Epoch 15/20\n",
      "448/448 [==============================] - 163s 363ms/step - loss: 0.6177 - accuracy: 0.7766 - val_loss: 1.0989 - val_accuracy: 0.6182\n",
      "Epoch 16/20\n",
      "448/448 [==============================] - 151s 336ms/step - loss: 0.5982 - accuracy: 0.7836 - val_loss: 1.1006 - val_accuracy: 0.6226\n",
      "Epoch 17/20\n",
      "448/448 [==============================] - 152s 339ms/step - loss: 0.5756 - accuracy: 0.7891 - val_loss: 1.1100 - val_accuracy: 0.6229\n",
      "Epoch 18/20\n",
      "448/448 [==============================] - 150s 335ms/step - loss: 0.5597 - accuracy: 0.7959 - val_loss: 1.1142 - val_accuracy: 0.6182\n",
      "Epoch 19/20\n",
      "448/448 [==============================] - 150s 336ms/step - loss: 0.5368 - accuracy: 0.8081 - val_loss: 1.1181 - val_accuracy: 0.6214\n",
      "Epoch 20/20\n",
      "448/448 [==============================] - 152s 340ms/step - loss: 0.5256 - accuracy: 0.8114 - val_loss: 1.1182 - val_accuracy: 0.6257\n"
     ]
    }
   ],
   "source": [
    "# Train the neural network/model\n",
    "emotion_model_info = emotion_model.fit(\n",
    "        train_generator,\n",
    "        steps_per_epoch=28709 // 64,\n",
    "        epochs=20,        validation_data=validation_generator,\n",
    "        validation_steps=7178 // 64)\n"
   ]
  },
  {
   "cell_type": "code",
   "execution_count": 17,
   "id": "e3f814dd",
   "metadata": {},
   "outputs": [],
   "source": [
    "model_json = emotion_model.to_json()\n",
    "with open(\"models/emotion_model.json\", \"w\") as json_file:\n",
    "    json_file.write(model_json)\n",
    "\n",
    "# save trained model weight in .h5 file\n",
    "emotion_model.save_weights('models/emotion_model.h5')"
   ]
  },
  {
   "cell_type": "code",
   "execution_count": 52,
   "id": "69e79bce",
   "metadata": {},
   "outputs": [
    {
     "ename": "AttributeError",
     "evalue": "module 'cv2' has no attribute 'waitkey'",
     "output_type": "error",
     "traceback": [
      "\u001b[1;31m---------------------------------------------------------------------------\u001b[0m",
      "\u001b[1;31mAttributeError\u001b[0m                            Traceback (most recent call last)",
      "Cell \u001b[1;32mIn[52], line 3\u001b[0m\n\u001b[0;32m      1\u001b[0m img_check\u001b[38;5;241m=\u001b[39mcv2\u001b[38;5;241m.\u001b[39mimread(\u001b[38;5;124m'\u001b[39m\u001b[38;5;124mdata/train/angry/Training_3908.jpg\u001b[39m\u001b[38;5;124m'\u001b[39m)\n\u001b[0;32m      2\u001b[0m cv2\u001b[38;5;241m.\u001b[39mimshow(\u001b[38;5;124m'\u001b[39m\u001b[38;5;124ma\u001b[39m\u001b[38;5;124m'\u001b[39m, img_check)\n\u001b[1;32m----> 3\u001b[0m cv2\u001b[38;5;241m.\u001b[39mwaitkey()\n",
      "\u001b[1;31mAttributeError\u001b[0m: module 'cv2' has no attribute 'waitkey'"
     ]
    }
   ],
   "source": [
    "img_check=cv2.imread('data\\train\\angry\\Training_3908.jpg')\n",
    "cv2.imshow(img_check)\n",
    "cv2.waitkey()"
   ]
  },
  {
   "cell_type": "code",
   "execution_count": 34,
   "id": "04b54dab",
   "metadata": {},
   "outputs": [],
   "source": [
    "img=cv2.imread('grayed.jpg')"
   ]
  },
  {
   "cell_type": "code",
   "execution_count": 38,
   "id": "2ea96f7a",
   "metadata": {},
   "outputs": [],
   "source": [
    "image_tensor = tf.convert_to_tensor(img, dtype=tf.float32)\n",
    "\n",
    "# Add dimension to match with input mode \n",
    "image_tensor = tf.expand_dims(image_tensor, 0)"
   ]
  },
  {
   "cell_type": "code",
   "execution_count": 42,
   "id": "1ddac12a",
   "metadata": {},
   "outputs": [
    {
     "data": {
      "text/plain": [
       "<tf.Tensor: shape=(1, 48, 48, 3), dtype=float32, numpy=\n",
       "array([[[[0.27450982, 0.27450982, 0.27450982],\n",
       "         [0.1764706 , 0.1764706 , 0.1764706 ],\n",
       "         [0.22352941, 0.22352941, 0.22352941],\n",
       "         ...,\n",
       "         [0.45490196, 0.45490196, 0.45490196],\n",
       "         [0.5294118 , 0.5294118 , 0.5294118 ],\n",
       "         [0.49803922, 0.49803922, 0.49803922]],\n",
       "\n",
       "        [[0.14509805, 0.14509805, 0.14509805],\n",
       "         [0.18039216, 0.18039216, 0.18039216],\n",
       "         [0.20392157, 0.20392157, 0.20392157],\n",
       "         ...,\n",
       "         [0.5647059 , 0.5647059 , 0.5647059 ],\n",
       "         [0.3137255 , 0.3137255 , 0.3137255 ],\n",
       "         [0.5176471 , 0.5176471 , 0.5176471 ]],\n",
       "\n",
       "        [[0.29803923, 0.29803923, 0.29803923],\n",
       "         [0.14901961, 0.14901961, 0.14901961],\n",
       "         [0.18039216, 0.18039216, 0.18039216],\n",
       "         ...,\n",
       "         [0.2784314 , 0.2784314 , 0.2784314 ],\n",
       "         [0.36862746, 0.36862746, 0.36862746],\n",
       "         [0.58431375, 0.58431375, 0.58431375]],\n",
       "\n",
       "        ...,\n",
       "\n",
       "        [[0.23137255, 0.23137255, 0.23137255],\n",
       "         [0.11372549, 0.11372549, 0.11372549],\n",
       "         [0.11764706, 0.11764706, 0.11764706],\n",
       "         ...,\n",
       "         [0.09803922, 0.09803922, 0.09803922],\n",
       "         [0.09803922, 0.09803922, 0.09803922],\n",
       "         [0.09411765, 0.09411765, 0.09411765]],\n",
       "\n",
       "        [[0.1882353 , 0.1882353 , 0.1882353 ],\n",
       "         [0.16862746, 0.16862746, 0.16862746],\n",
       "         [0.08235294, 0.08235294, 0.08235294],\n",
       "         ...,\n",
       "         [0.09411765, 0.09411765, 0.09411765],\n",
       "         [0.10588235, 0.10588235, 0.10588235],\n",
       "         [0.13725491, 0.13725491, 0.13725491]],\n",
       "\n",
       "        [[0.21176471, 0.21176471, 0.21176471],\n",
       "         [0.1764706 , 0.1764706 , 0.1764706 ],\n",
       "         [0.14509805, 0.14509805, 0.14509805],\n",
       "         ...,\n",
       "         [0.10196079, 0.10196079, 0.10196079],\n",
       "         [0.09411765, 0.09411765, 0.09411765],\n",
       "         [0.10196079, 0.10196079, 0.10196079]]]], dtype=float32)>"
      ]
     },
     "execution_count": 42,
     "metadata": {},
     "output_type": "execute_result"
    }
   ],
   "source": [
    "image_tensor"
   ]
  },
  {
   "cell_type": "code",
   "execution_count": 41,
   "id": "e72566df",
   "metadata": {},
   "outputs": [],
   "source": [
    "image_tensor=image_tensor/255"
   ]
  },
  {
   "cell_type": "code",
   "execution_count": 43,
   "id": "87d3a00d",
   "metadata": {},
   "outputs": [
    {
     "ename": "ValueError",
     "evalue": "in user code:\n\n    File \"C:\\Users\\HP\\anaconda3\\Lib\\site-packages\\keras\\src\\engine\\training.py\", line 2341, in predict_function  *\n        return step_function(self, iterator)\n    File \"C:\\Users\\HP\\anaconda3\\Lib\\site-packages\\keras\\src\\engine\\training.py\", line 2327, in step_function  **\n        outputs = model.distribute_strategy.run(run_step, args=(data,))\n    File \"C:\\Users\\HP\\anaconda3\\Lib\\site-packages\\keras\\src\\engine\\training.py\", line 2315, in run_step  **\n        outputs = model.predict_step(data)\n    File \"C:\\Users\\HP\\anaconda3\\Lib\\site-packages\\keras\\src\\engine\\training.py\", line 2283, in predict_step\n        return self(x, training=False)\n    File \"C:\\Users\\HP\\anaconda3\\Lib\\site-packages\\keras\\src\\utils\\traceback_utils.py\", line 70, in error_handler\n        raise e.with_traceback(filtered_tb) from None\n    File \"C:\\Users\\HP\\anaconda3\\Lib\\site-packages\\keras\\src\\engine\\input_spec.py\", line 280, in assert_input_compatibility\n        raise ValueError(\n\n    ValueError: Exception encountered when calling layer 'sequential_5' (type Sequential).\n    \n    Input 0 of layer \"conv2d_20\" is incompatible with the layer: expected axis -1 of input shape to have value 1, but received input with shape (None, 48, 48, 3)\n    \n    Call arguments received by layer 'sequential_5' (type Sequential):\n      • inputs=tf.Tensor(shape=(None, 48, 48, 3), dtype=float32)\n      • training=False\n      • mask=None\n",
     "output_type": "error",
     "traceback": [
      "\u001b[1;31m---------------------------------------------------------------------------\u001b[0m",
      "\u001b[1;31mValueError\u001b[0m                                Traceback (most recent call last)",
      "Cell \u001b[1;32mIn[43], line 1\u001b[0m\n\u001b[1;32m----> 1\u001b[0m emotion_model\u001b[38;5;241m.\u001b[39mpredict(image_tensor)\n",
      "File \u001b[1;32m~\\anaconda3\\Lib\\site-packages\\keras\\src\\utils\\traceback_utils.py:70\u001b[0m, in \u001b[0;36mfilter_traceback.<locals>.error_handler\u001b[1;34m(*args, **kwargs)\u001b[0m\n\u001b[0;32m     67\u001b[0m     filtered_tb \u001b[38;5;241m=\u001b[39m _process_traceback_frames(e\u001b[38;5;241m.\u001b[39m__traceback__)\n\u001b[0;32m     68\u001b[0m     \u001b[38;5;66;03m# To get the full stack trace, call:\u001b[39;00m\n\u001b[0;32m     69\u001b[0m     \u001b[38;5;66;03m# `tf.debugging.disable_traceback_filtering()`\u001b[39;00m\n\u001b[1;32m---> 70\u001b[0m     \u001b[38;5;28;01mraise\u001b[39;00m e\u001b[38;5;241m.\u001b[39mwith_traceback(filtered_tb) \u001b[38;5;28;01mfrom\u001b[39;00m \u001b[38;5;28;01mNone\u001b[39;00m\n\u001b[0;32m     71\u001b[0m \u001b[38;5;28;01mfinally\u001b[39;00m:\n\u001b[0;32m     72\u001b[0m     \u001b[38;5;28;01mdel\u001b[39;00m filtered_tb\n",
      "File \u001b[1;32m~\\AppData\\Local\\Temp\\__autograph_generated_fileaofb614_.py:15\u001b[0m, in \u001b[0;36mouter_factory.<locals>.inner_factory.<locals>.tf__predict_function\u001b[1;34m(iterator)\u001b[0m\n\u001b[0;32m     13\u001b[0m \u001b[38;5;28;01mtry\u001b[39;00m:\n\u001b[0;32m     14\u001b[0m     do_return \u001b[38;5;241m=\u001b[39m \u001b[38;5;28;01mTrue\u001b[39;00m\n\u001b[1;32m---> 15\u001b[0m     retval_ \u001b[38;5;241m=\u001b[39m ag__\u001b[38;5;241m.\u001b[39mconverted_call(ag__\u001b[38;5;241m.\u001b[39mld(step_function), (ag__\u001b[38;5;241m.\u001b[39mld(\u001b[38;5;28mself\u001b[39m), ag__\u001b[38;5;241m.\u001b[39mld(iterator)), \u001b[38;5;28;01mNone\u001b[39;00m, fscope)\n\u001b[0;32m     16\u001b[0m \u001b[38;5;28;01mexcept\u001b[39;00m:\n\u001b[0;32m     17\u001b[0m     do_return \u001b[38;5;241m=\u001b[39m \u001b[38;5;28;01mFalse\u001b[39;00m\n",
      "\u001b[1;31mValueError\u001b[0m: in user code:\n\n    File \"C:\\Users\\HP\\anaconda3\\Lib\\site-packages\\keras\\src\\engine\\training.py\", line 2341, in predict_function  *\n        return step_function(self, iterator)\n    File \"C:\\Users\\HP\\anaconda3\\Lib\\site-packages\\keras\\src\\engine\\training.py\", line 2327, in step_function  **\n        outputs = model.distribute_strategy.run(run_step, args=(data,))\n    File \"C:\\Users\\HP\\anaconda3\\Lib\\site-packages\\keras\\src\\engine\\training.py\", line 2315, in run_step  **\n        outputs = model.predict_step(data)\n    File \"C:\\Users\\HP\\anaconda3\\Lib\\site-packages\\keras\\src\\engine\\training.py\", line 2283, in predict_step\n        return self(x, training=False)\n    File \"C:\\Users\\HP\\anaconda3\\Lib\\site-packages\\keras\\src\\utils\\traceback_utils.py\", line 70, in error_handler\n        raise e.with_traceback(filtered_tb) from None\n    File \"C:\\Users\\HP\\anaconda3\\Lib\\site-packages\\keras\\src\\engine\\input_spec.py\", line 280, in assert_input_compatibility\n        raise ValueError(\n\n    ValueError: Exception encountered when calling layer 'sequential_5' (type Sequential).\n    \n    Input 0 of layer \"conv2d_20\" is incompatible with the layer: expected axis -1 of input shape to have value 1, but received input with shape (None, 48, 48, 3)\n    \n    Call arguments received by layer 'sequential_5' (type Sequential):\n      • inputs=tf.Tensor(shape=(None, 48, 48, 3), dtype=float32)\n      • training=False\n      • mask=None\n"
     ]
    }
   ],
   "source": [
    "emotion_model.predict(image_tensor)"
   ]
  }
 ],
 "metadata": {
  "kernelspec": {
   "display_name": "Python 3 (ipykernel)",
   "language": "python",
   "name": "python3"
  },
  "language_info": {
   "codemirror_mode": {
    "name": "ipython",
    "version": 3
   },
   "file_extension": ".py",
   "mimetype": "text/x-python",
   "name": "python",
   "nbconvert_exporter": "python",
   "pygments_lexer": "ipython3",
   "version": "3.11.3"
  }
 },
 "nbformat": 4,
 "nbformat_minor": 5
}
